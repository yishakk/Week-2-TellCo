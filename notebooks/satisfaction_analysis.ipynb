{
 "cells": [
  {
   "cell_type": "code",
   "execution_count": 5,
   "metadata": {},
   "outputs": [],
   "source": [
    "import os, sys\n",
    "notebook_dir = os.getcwd()\n",
    "sys.path.append(os.path.abspath(os.path.join(notebook_dir,'..')))"
   ]
  },
  {
   "cell_type": "code",
   "execution_count": 10,
   "metadata": {},
   "outputs": [],
   "source": [
    "from scripts.data_visualization import *\n",
    "from scripts.data_cleaning import *\n",
    "from scripts.euclidean_distance import *\n",
    "from scripts.load_data import *\n",
    "import pandas as pd\n",
    "import numpy as np\n",
    "from sklearn.cluster import KMeans\n",
    "from sklearn.metrics import pairwise_distances\n",
    "from sklearn.linear_model import LinearRegression\n",
    "from sklearn.preprocessing import StandardScaler\n",
    "import matplotlib.pyplot as plt\n",
    "import seaborn as sns"
   ]
  },
  {
   "cell_type": "code",
   "execution_count": 11,
   "metadata": {},
   "outputs": [
    {
     "name": "stdout",
     "output_type": "stream",
     "text": [
      "An error occurred: DLL load failed while importing _psycopg: The specified module could not be found.\n",
      "Failed to load data.\n"
     ]
    }
   ],
   "source": [
    "query = \"SELECT * FROM xdr_data;\"  # Replace with your actual table name\n",
    "\n",
    "data = load_data_using_sqlalchemy(query)\n",
    "\n",
    "if data is not None:\n",
    "    print(\"Successfully loaded the data\")\n",
    "else:\n",
    "    print(\"Failed to load data.\")"
   ]
  },
  {
   "cell_type": "code",
   "execution_count": null,
   "metadata": {},
   "outputs": [],
   "source": [
    "engagement_columns = ['sessions_frequency', 'session_duration', 'session_total_traffic']\n",
    "engagement_data = data[engagement_columns].copy()\n",
    "scaler = StandardScaler()\n",
    "engagement_data_scaled = scaler.fit_transform(engagement_data)"
   ]
  },
  {
   "cell_type": "code",
   "execution_count": null,
   "metadata": {},
   "outputs": [],
   "source": [
    "kmeans_engagement = KMeans(n_clusters=3, random_state=42)\n",
    "data['engagement_cluster'] = kmeans_engagement.fit_predict(engagement_data_scaled)\n",
    "least_engaged_cluster_center = kmeans_engagement.cluster_centers_[data['engagement_cluster'].value_counts().idxmin()]"
   ]
  },
  {
   "cell_type": "code",
   "execution_count": null,
   "metadata": {},
   "outputs": [],
   "source": [
    "data['engagement_score'] = data[engagement_columns].apply(\n",
    "    lambda row: calculate_euclidean_distance(row, least_engaged_cluster_center), axis=1\n",
    ")"
   ]
  },
  {
   "cell_type": "code",
   "execution_count": null,
   "metadata": {},
   "outputs": [],
   "source": [
    "experience_columns = ['avg_tcp_retrans', 'avg_rtt', 'avg_throughput']\n",
    "experience_data = data[experience_columns].copy()\n",
    "experience_data_scaled = scaler.fit_transform(experience_data)"
   ]
  },
  {
   "cell_type": "code",
   "execution_count": null,
   "metadata": {},
   "outputs": [],
   "source": [
    "kmeans_experience = KMeans(n_clusters=3, random_state=42)\n",
    "data['experience_cluster'] = kmeans_experience.fit_predict(experience_data_scaled)\n",
    "worst_experience_cluster_center = kmeans_experience.cluster_centers_[data['experience_cluster'].value_counts().idxmax()]"
   ]
  },
  {
   "cell_type": "code",
   "execution_count": null,
   "metadata": {},
   "outputs": [],
   "source": [
    "data['experience_score'] = data[experience_columns].apply(\n",
    "    lambda row: calculate_euclidean_distance(row, worst_experience_cluster_center), axis=1\n",
    ")"
   ]
  },
  {
   "cell_type": "code",
   "execution_count": null,
   "metadata": {},
   "outputs": [],
   "source": [
    "data['satisfaction_score'] = data[['engagement_score', 'experience_score']].mean(axis=1)\n",
    "top_10_satisfied = data.nlargest(10, 'satisfaction_score')[['MSISDN/Number', 'satisfaction_score']]"
   ]
  },
  {
   "cell_type": "code",
   "execution_count": null,
   "metadata": {},
   "outputs": [],
   "source": [
    "X = data[engagement_columns + experience_columns]\n",
    "y = data['satisfaction_score']\n",
    "model = LinearRegression()\n",
    "model.fit(X, y)"
   ]
  },
  {
   "cell_type": "code",
   "execution_count": null,
   "metadata": {},
   "outputs": [],
   "source": [
    "data['predicted_satisfaction'] = model.predict(X)"
   ]
  },
  {
   "cell_type": "code",
   "execution_count": null,
   "metadata": {},
   "outputs": [],
   "source": [
    "score_data = data[['engagement_score', 'experience_score']]\n",
    "kmeans_scores = KMeans(n_clusters=2, random_state=42)\n",
    "data['satisfaction_cluster'] = kmeans_scores.fit_predict(score_data)"
   ]
  },
  {
   "cell_type": "code",
   "execution_count": null,
   "metadata": {},
   "outputs": [],
   "source": [
    "cluster_summary = data.groupby('satisfaction_cluster').agg(\n",
    "    avg_satisfaction=pd.NamedAgg(column='satisfaction_score', aggfunc='mean'),\n",
    "    avg_experience=pd.NamedAgg(column='experience_score', aggfunc='mean')\n",
    ")"
   ]
  },
  {
   "cell_type": "code",
   "execution_count": null,
   "metadata": {},
   "outputs": [],
   "source": [
    "cursor = load_data_from_postgres(query)"
   ]
  },
  {
   "cell_type": "code",
   "execution_count": null,
   "metadata": {},
   "outputs": [],
   "source": [
    "cursor.execute\n",
    "CREATE TABLE IF NOT EXISTS user_satisfaction (\n",
    "    user_id VARCHAR(50),\n",
    "    engagement_score FLOAT,\n",
    "    experience_score FLOAT,\n",
    "    satisfaction_score FLOAT\n",
    ")"
   ]
  },
  {
   "cell_type": "code",
   "execution_count": null,
   "metadata": {},
   "outputs": [],
   "source": [
    "for _, row in data[['MSISDN/Number', 'engagement_score', 'experience_score', 'satisfaction_score']].iterrows():\n",
    "    cursor.execute(\"\"\"\n",
    "    INSERT INTO user_satisfaction (user_id, engagement_score, experience_score, satisfaction_score)\n",
    "    VALUES (%s, %s, %s, %s)\n",
    "    \"\"\", tuple(row))\n",
    "\n",
    "connection.commit()"
   ]
  },
  {
   "cell_type": "code",
   "execution_count": null,
   "metadata": {},
   "outputs": [],
   "source": [
    "cursor.execute(\"SELECT * FROM user_satisfaction LIMIT 10\")\n",
    "output = cursor.fetchall()\n",
    "print(\"Sample Data from MySQL Table:\")\n",
    "for record in output:\n",
    "    print(record)"
   ]
  },
  {
   "cell_type": "code",
   "execution_count": null,
   "metadata": {},
   "outputs": [],
   "source": [
    "connection.close()"
   ]
  },
  {
   "cell_type": "code",
   "execution_count": null,
   "metadata": {},
   "outputs": [],
   "source": [
    "plt.figure(figsize=(8, 6))\n",
    "plt.scatter(data['engagement_score'], data['experience_score'], c=data['satisfaction_cluster'], cmap='viridis')\n",
    "plt.title(\"Clustering of Engagement & Experience Scores\")\n",
    "plt.xlabel(\"Engagement Score\")\n",
    "plt.ylabel(\"Experience Score\")\n",
    "plt.colorbar(label='Cluster')\n",
    "plt.show()"
   ]
  }
 ],
 "metadata": {
  "kernelspec": {
   "display_name": ".venv",
   "language": "python",
   "name": "python3"
  },
  "language_info": {
   "codemirror_mode": {
    "name": "ipython",
    "version": 3
   },
   "file_extension": ".py",
   "mimetype": "text/x-python",
   "name": "python",
   "nbconvert_exporter": "python",
   "pygments_lexer": "ipython3",
   "version": "3.13.1"
  }
 },
 "nbformat": 4,
 "nbformat_minor": 2
}
